{
 "cells": [
  {
   "cell_type": "markdown",
   "metadata": {},
   "source": [
    "# Experimental Probability\n",
    "Instead of rolling dice or flipping coins and recording the results, we can write some Python code to do it for us.\n",
    "\n",
    "We'll use a Python module called `randint` to generate random integers, `matplotlib` to generate graphs, and `Counter` (from `collections`) to count frequencies.\n",
    "\n",
    "Let's say we wanted to flip a coin 20 times. We could generate a random integer that is **1** or **2** and decide that \"heads\" is 1 and \"tails\" is 2. Run the code below by clicking on the cell and clicking the `Run` button above (or pressing Ctrl-Enter)."
   ]
  },
  {
   "cell_type": "code",
   "execution_count": 1,
   "metadata": {},
   "outputs": [
    {
     "data": {
      "text/plain": [
       "[1, 2, 2, 1, 2, 1, 1, 1, 2, 2, 1, 2, 1, 2, 2, 2, 2, 2, 1, 1]"
      ]
     },
     "execution_count": 1,
     "metadata": {},
     "output_type": "execute_result"
    }
   ],
   "source": [
    "from random import randint\n",
    "howMany = 20\n",
    "sides = 2\n",
    "\n",
    "results = []  # create an empty list that we will store results in\n",
    "for x in range(0,howMany):  # create a loop that will run once for each number of flips\n",
    "    result = randint(1,sides)  # generate a random number between 1 and 2\n",
    "    results += [result]  # add the result to our list\n",
    "\n",
    "results  # print the list of results"
   ]
  },
  {
   "cell_type": "markdown",
   "metadata": {},
   "source": [
    "Each time you run the above code you should get a different list of numbers.\n",
    "\n",
    "Now let's do the same thing, but create a bar graph of the frequency of each number."
   ]
  },
  {
   "cell_type": "code",
   "execution_count": 2,
   "metadata": {},
   "outputs": [
    {
     "data": {
      "image/png": "[encoded data removed]",
      "text/plain": [
       "<Figure size 432x288 with 1 Axes>"
      ]
     },
     "metadata": {
      "needs_background": "light"
     },
     "output_type": "display_data"
    }
   ],
   "source": [
    "howMany = 20\n",
    "sides = 2\n",
    "\n",
    "results = []\n",
    "for x in range(0,howMany):\n",
    "    result = randint(1,sides)\n",
    "    results += [result]\n",
    "\n",
    "# count how many times we got each sum\n",
    "from collections import Counter\n",
    "counts = Counter(results)\n",
    "\n",
    "# create a bar graph from that count\n",
    "import matplotlib.pyplot as plot\n",
    "%matplotlib inline\n",
    "plot.bar(counts.keys(),counts.values())\n",
    "plot.show()"
   ]
  },
  {
   "cell_type": "markdown",
   "metadata": {},
   "source": [
    "The same code would work if we wanted to use dice, we just need to change the number of sides."
   ]
  },
  {
   "cell_type": "code",
   "execution_count": 3,
   "metadata": {},
   "outputs": [
    {
     "data": {
      "image/png": "[encoded data removed]",
      "text/plain": [
       "<Figure size 432x288 with 1 Axes>"
      ]
     },
     "metadata": {
      "needs_background": "light"
     },
     "output_type": "display_data"
    }
   ],
   "source": [
    "howMany = 20\n",
    "sides = 6\n",
    "\n",
    "results = []\n",
    "for x in range(0,howMany):\n",
    "    result = randint(1,sides)\n",
    "    results += [result]\n",
    "\n",
    "counts = Counter(results)\n",
    "plot.bar(counts.keys(),counts.values())\n",
    "plot.show()"
   ]
  },
  {
   "cell_type": "markdown",
   "metadata": {
    "collapsed": true
   },
   "source": [
    "Theoretically we expect each number to be rolled with the same frequency, but `20` is not a large enough sample size.\n",
    "\n",
    "Change the value of the `howMany` variable in the above code to `5000` and run it again. Does that look more like the theoretical probability?"
   ]
  },
  {
   "cell_type": "markdown",
   "metadata": {},
   "source": [
    "One more statistics experiment, let's roll two dice and add them together... five thousand times."
   ]
  },
  {
   "cell_type": "code",
   "execution_count": 4,
   "metadata": {},
   "outputs": [
    {
     "data": {
      "image/png": "[encoded data removed]",
      "text/plain": [
       "<Figure size 432x288 with 1 Axes>"
      ]
     },
     "metadata": {
      "needs_background": "light"
     },
     "output_type": "display_data"
    }
   ],
   "source": [
    "howMany = 5000\n",
    "sides = 6\n",
    "\n",
    "results = []\n",
    "for x in range(0,howMany):\n",
    "    number1 = randint(1,sides)\n",
    "    number2 = randint(1,sides)\n",
    "    result = number1 + number2\n",
    "    results += [result]\n",
    "\n",
    "counts = Counter(results)\n",
    "plot.bar(counts.keys(),counts.values())\n",
    "plot.show()"
   ]
  },
  {
   "cell_type": "markdown",
   "metadata": {},
   "source": [
    "What is the most common sum? Why?\n",
    "\n",
    "What are the least common sums? Why?\n",
    "\n",
    "Would the graph look different with fewer rolls? Why?\n",
    "\n",
    "Would the graph look different with more rolls? Why?"
   ]
  }
 ],
 "metadata": {
  "kernelspec": {
   "display_name": "Python 3",
   "language": "python",
   "name": "python3"
  },
  "language_info": {
   "codemirror_mode": {
    "name": "ipython",
    "version": 3
   },
   "file_extension": ".py",
   "mimetype": "text/x-python",
   "name": "python",
   "nbconvert_exporter": "python",
   "pygments_lexer": "ipython3",
   "version": "3.7.3"
  }
 },
 "nbformat": 4,
 "nbformat_minor": 2
}
